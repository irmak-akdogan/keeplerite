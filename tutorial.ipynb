{
 "cells": [
  {
   "cell_type": "markdown",
   "id": "0afb1976",
   "metadata": {},
   "source": [
    "# Welcome to Keeplerite\n",
    "\n",
    "### A light way to keep all your Kepler stuff! "
   ]
  },
  {
   "cell_type": "code",
   "execution_count": null,
   "id": "4db7b7fb",
   "metadata": {
    "vscode": {
     "languageId": "plaintext"
    }
   },
   "outputs": [],
   "source": [
    "from astro_objects import Astro_Objects"
   ]
  },
  {
   "cell_type": "markdown",
   "id": "c42db7ae",
   "metadata": {},
   "source": []
  }
 ],
 "metadata": {
  "language_info": {
   "name": "python"
  }
 },
 "nbformat": 4,
 "nbformat_minor": 5
}
